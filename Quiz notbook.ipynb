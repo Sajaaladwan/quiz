{
  "nbformat": 4,
  "nbformat_minor": 0,
  "metadata": {
    "colab": {
      "name": "Quiz-1.ipynb",
      "provenance": [],
      "collapsed_sections": []
    },
    "kernelspec": {
      "name": "python3",
      "display_name": "Python 3"
    },
    "language_info": {
      "name": "python"
    }
  },
  "cells": [
    {
      "cell_type": "markdown",
      "metadata": {
        "id": "PVK6TOZi-y0I"
      },
      "source": [
        "Please follow the questions sequence on your quiz interface and fill in the corresponding answer."
      ]
    },
    {
      "cell_type": "markdown",
      "metadata": {
        "id": "hrPj_EBo-HAs"
      },
      "source": [
        "##Quiz 1"
      ]
    },
    {
      "cell_type": "code",
      "metadata": {
        "id": "Hb4916l0-Fp0",
        "colab": {
          "base_uri": "https://localhost:8080/"
        },
        "outputId": "0e4c59ca-7819-4753-b749-014f49f8c86d"
      },
      "source": [
        "#Q1 code goes here\n",
        "a,b= 1,0\n",
        "a=a^b\n",
        "b=a^b\n",
        "a=a^b\n",
        "print(a)"
      ],
      "execution_count": 1,
      "outputs": [
        {
          "output_type": "stream",
          "text": [
            "0\n"
          ],
          "name": "stdout"
        }
      ]
    },
    {
      "cell_type": "code",
      "metadata": {
        "id": "p4M6g5fV-UjY",
        "colab": {
          "base_uri": "https://localhost:8080/"
        },
        "outputId": "0a666cb0-8f87-4471-efc5-b5977c963cf0"
      },
      "source": [
        "#Q2 code goes here\n",
        "a =2**2**3*1\n",
        "print (a)"
      ],
      "execution_count": 2,
      "outputs": [
        {
          "output_type": "stream",
          "text": [
            "256\n"
          ],
          "name": "stdout"
        }
      ]
    },
    {
      "cell_type": "code",
      "metadata": {
        "id": "Kmx45kx--akf"
      },
      "source": [
        "#Q3 code goes here\n",
        "#......"
      ],
      "execution_count": null,
      "outputs": []
    },
    {
      "cell_type": "code",
      "metadata": {
        "id": "7Y7EBhQ1-fyS"
      },
      "source": [
        "#Q4 code goes here\n"
      ],
      "execution_count": null,
      "outputs": []
    },
    {
      "cell_type": "code",
      "metadata": {
        "id": "HmUg_6IOJ4-f",
        "colab": {
          "base_uri": "https://localhost:8080/"
        },
        "outputId": "42bcfffc-a97c-4b8a-accd-bffe6c0b7c34"
      },
      "source": [
        "s1 = {'Alex', 2, 3}\n",
        "s2 = {3, 4, 5, 'Alix'}\n",
        "s1 | s2"
      ],
      "execution_count": 3,
      "outputs": [
        {
          "output_type": "execute_result",
          "data": {
            "text/plain": [
              "{2, 3, 4, 5, 'Alex', 'Alix'}"
            ]
          },
          "metadata": {
            "tags": []
          },
          "execution_count": 3
        }
      ]
    },
    {
      "cell_type": "code",
      "metadata": {
        "id": "MA7g7GDj-g9v",
        "colab": {
          "base_uri": "https://localhost:8080/"
        },
        "outputId": "c1281202-d634-49ad-8f8c-2fae355b468f"
      },
      "source": [
        "#Q5 code goes here\n",
        "scores ={'Mohammad' : 97 , 'Ahmad' : 98}\n",
        "if scores ['Mohammad'] >97:\n",
        "     print('scolar')\n",
        "elif scores ['Ahmad'] >97 :\n",
        "     print('Topper')\n",
        "elif scores ['Alex'] >97 :\n",
        "           print('Teacher')\n",
        "else:\n",
        "   print('Nobody topped')   "
      ],
      "execution_count": 4,
      "outputs": [
        {
          "output_type": "stream",
          "text": [
            "Topper\n"
          ],
          "name": "stdout"
        }
      ]
    },
    {
      "cell_type": "code",
      "metadata": {
        "id": "I12X4np--iIn"
      },
      "source": [
        "#Q6 code goes here\n",
        "L =['one' , 'two' , 'three' , 4]\n",
        "L+='five'"
      ],
      "execution_count": 5,
      "outputs": []
    },
    {
      "cell_type": "code",
      "metadata": {
        "id": "0OgudXbC-jRf",
        "colab": {
          "base_uri": "https://localhost:8080/"
        },
        "outputId": "96101960-69f1-4927-86b9-c54f8640f4d1"
      },
      "source": [
        "#Q7 code goes here\n",
        "from random import randint\n",
        "for i in range(5,15,5):\n",
        "    print(randint(1, 5))"
      ],
      "execution_count": 6,
      "outputs": [
        {
          "output_type": "stream",
          "text": [
            "5\n",
            "4\n"
          ],
          "name": "stdout"
        }
      ]
    },
    {
      "cell_type": "code",
      "metadata": {
        "id": "GAXrIcIi-kqq"
      },
      "source": [
        "#Q8 code goes here\n",
        "def func(a,b,c,d=1):\n",
        "  return d**(a*25)"
      ],
      "execution_count": 7,
      "outputs": []
    },
    {
      "cell_type": "code",
      "metadata": {
        "id": "s9brnp6X-oLW",
        "colab": {
          "base_uri": "https://localhost:8080/"
        },
        "outputId": "a9fe5e1a-1cfa-421d-fcf3-d29bb61e0897"
      },
      "source": [
        "#Q9 code goes here\n",
        "L = list()\n",
        "L.append([1,2,[3,4]])\n",
        "L.extend([5,6,7])\n",
        "L.insert(0 ,['hello'])\n",
        "print(L)"
      ],
      "execution_count": 8,
      "outputs": [
        {
          "output_type": "stream",
          "text": [
            "[['hello'], [1, 2, [3, 4]], 5, 6, 7]\n"
          ],
          "name": "stdout"
        }
      ]
    },
    {
      "cell_type": "code",
      "metadata": {
        "id": "dRg-t5kh-qfd",
        "colab": {
          "base_uri": "https://localhost:8080/",
          "height": 203
        },
        "outputId": "cd48ceea-bf3f-426e-f1da-14f869bfed79"
      },
      "source": [
        "#Q0 code goes here\n",
        "i=12\n",
        "while i > 0 :\n",
        "  i-=3\n",
        "  print('o')\n",
        "if i<=2:\n",
        "    break\n",
        "else:\n",
        "      print('o')"
      ],
      "execution_count": 11,
      "outputs": [
        {
          "output_type": "stream",
          "text": [
            "o\n",
            "o\n",
            "o\n",
            "o\n"
          ],
          "name": "stdout"
        },
        {
          "output_type": "error",
          "ename": "SyntaxError",
          "evalue": "ignored",
          "traceback": [
            "\u001b[0;36m  File \u001b[0;32m\"<ipython-input-11-9a9a0aaae3df>\"\u001b[0;36m, line \u001b[0;32m7\u001b[0m\n\u001b[0;31m    break\u001b[0m\n\u001b[0m    ^\u001b[0m\n\u001b[0;31mSyntaxError\u001b[0m\u001b[0;31m:\u001b[0m 'break' outside loop\n"
          ]
        }
      ]
    },
    {
      "cell_type": "code",
      "metadata": {
        "id": "Oeyo6Kl7-tCz",
        "colab": {
          "base_uri": "https://localhost:8080/"
        },
        "outputId": "db0a3f31-686e-4e12-9c12-1bb903342d98"
      },
      "source": [
        "#Q11 code goes here\n",
        "s={1, 2, 3} & {4, 5, 6}\n",
        "print(s)"
      ],
      "execution_count": 14,
      "outputs": [
        {
          "output_type": "stream",
          "text": [
            "set()\n"
          ],
          "name": "stdout"
        }
      ]
    },
    {
      "cell_type": "code",
      "metadata": {
        "id": "GVUAcq57-xSu"
      },
      "source": [
        "#Q12 code goes here\n",
        "#......"
      ],
      "execution_count": null,
      "outputs": []
    }
  ]
}